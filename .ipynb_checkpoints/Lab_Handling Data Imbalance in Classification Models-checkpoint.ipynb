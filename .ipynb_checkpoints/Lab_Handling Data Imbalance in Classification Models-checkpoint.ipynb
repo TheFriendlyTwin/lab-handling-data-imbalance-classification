{
 "cells": [
  {
   "cell_type": "markdown",
   "id": "7f1847a8",
   "metadata": {},
   "source": [
    "# Lab | Handling Data Imbalance in Classification Models"
   ]
  },
  {
   "cell_type": "markdown",
   "id": "92110d4f",
   "metadata": {},
   "source": [
    "-----------------------------------------------------------------------------------------------------------\n",
    "For this lab and in the next lessons we will build a model on customer churn binary classification problem. You will be using files_for_lab/Customer-Churn.csv file.\n",
    "\n",
    "----------------------------------------------------------------------------------------------------"
   ]
  },
  {
   "cell_type": "markdown",
   "id": "27a33b5b",
   "metadata": {},
   "source": [
    "### Scenario"
   ]
  },
  {
   "cell_type": "markdown",
   "id": "41188359",
   "metadata": {},
   "source": [
    "----------------------------------------------------------------------------------------------\n",
    "You are working as an analyst with this internet service provider. You are provided with this historical data about your company's customers and their churn trends. Your task is to build a machine learning model that will help the company identify customers that are more likely to default/churn and thus prevent losses from such customers.\n",
    "\n",
    "-------------------------------------------------------------------------------------------"
   ]
  },
  {
   "cell_type": "markdown",
   "id": "b0a20bba",
   "metadata": {},
   "source": [
    "### Instructions"
   ]
  },
  {
   "cell_type": "markdown",
   "id": "e7fb9dd7",
   "metadata": {},
   "source": [
    "------------------------------------------------------------------------------------------------------------\n",
    "In this lab, we will first take a look at the degree of imbalance in the data and correct it using the techniques we learned on the class.\n",
    "\n",
    "Here is the list of steps to be followed (building a simple model without balancing the data):\n",
    "    \n",
    "----------------------------------------------------------------------------------------------------------"
   ]
  },
  {
   "cell_type": "markdown",
   "id": "b53044fc",
   "metadata": {},
   "source": [
    "##### 1. Import the required libraries and modules that you would need."
   ]
  },
  {
   "cell_type": "code",
   "execution_count": 1,
   "id": "555f7acb",
   "metadata": {},
   "outputs": [],
   "source": [
    "#Importing necessary libraries\n",
    "import pandas as pd\n",
    "import numpy as np"
   ]
  },
  {
   "cell_type": "markdown",
   "id": "05a63c70",
   "metadata": {},
   "source": [
    "##### 2. Read that data into Python and call the dataframe churnData."
   ]
  },
  {
   "cell_type": "code",
   "execution_count": 2,
   "id": "60b703eb",
   "metadata": {},
   "outputs": [],
   "source": [
    "#Importing the csv file into a varieble\n",
    "churnData = pd.read_csv(r\"C:\\Users\\mafal\\Documents\\ironhack\\labs\\lab-handling-data-imbalance-classification\\files_for_lab\\Customer-Churn.csv\")"
   ]
  },
  {
   "cell_type": "code",
   "execution_count": 3,
   "id": "99bb2a39",
   "metadata": {},
   "outputs": [
    {
     "data": {
      "text/html": [
       "<div>\n",
       "<style scoped>\n",
       "    .dataframe tbody tr th:only-of-type {\n",
       "        vertical-align: middle;\n",
       "    }\n",
       "\n",
       "    .dataframe tbody tr th {\n",
       "        vertical-align: top;\n",
       "    }\n",
       "\n",
       "    .dataframe thead th {\n",
       "        text-align: right;\n",
       "    }\n",
       "</style>\n",
       "<table border=\"1\" class=\"dataframe\">\n",
       "  <thead>\n",
       "    <tr style=\"text-align: right;\">\n",
       "      <th></th>\n",
       "      <th>gender</th>\n",
       "      <th>SeniorCitizen</th>\n",
       "      <th>Partner</th>\n",
       "      <th>Dependents</th>\n",
       "      <th>tenure</th>\n",
       "      <th>PhoneService</th>\n",
       "      <th>OnlineSecurity</th>\n",
       "      <th>OnlineBackup</th>\n",
       "      <th>DeviceProtection</th>\n",
       "      <th>TechSupport</th>\n",
       "      <th>StreamingTV</th>\n",
       "      <th>StreamingMovies</th>\n",
       "      <th>Contract</th>\n",
       "      <th>MonthlyCharges</th>\n",
       "      <th>TotalCharges</th>\n",
       "      <th>Churn</th>\n",
       "    </tr>\n",
       "  </thead>\n",
       "  <tbody>\n",
       "    <tr>\n",
       "      <th>0</th>\n",
       "      <td>Female</td>\n",
       "      <td>0</td>\n",
       "      <td>Yes</td>\n",
       "      <td>No</td>\n",
       "      <td>1</td>\n",
       "      <td>No</td>\n",
       "      <td>No</td>\n",
       "      <td>Yes</td>\n",
       "      <td>No</td>\n",
       "      <td>No</td>\n",
       "      <td>No</td>\n",
       "      <td>No</td>\n",
       "      <td>Month-to-month</td>\n",
       "      <td>29.85</td>\n",
       "      <td>29.85</td>\n",
       "      <td>No</td>\n",
       "    </tr>\n",
       "    <tr>\n",
       "      <th>1</th>\n",
       "      <td>Male</td>\n",
       "      <td>0</td>\n",
       "      <td>No</td>\n",
       "      <td>No</td>\n",
       "      <td>34</td>\n",
       "      <td>Yes</td>\n",
       "      <td>Yes</td>\n",
       "      <td>No</td>\n",
       "      <td>Yes</td>\n",
       "      <td>No</td>\n",
       "      <td>No</td>\n",
       "      <td>No</td>\n",
       "      <td>One year</td>\n",
       "      <td>56.95</td>\n",
       "      <td>1889.5</td>\n",
       "      <td>No</td>\n",
       "    </tr>\n",
       "    <tr>\n",
       "      <th>2</th>\n",
       "      <td>Male</td>\n",
       "      <td>0</td>\n",
       "      <td>No</td>\n",
       "      <td>No</td>\n",
       "      <td>2</td>\n",
       "      <td>Yes</td>\n",
       "      <td>Yes</td>\n",
       "      <td>Yes</td>\n",
       "      <td>No</td>\n",
       "      <td>No</td>\n",
       "      <td>No</td>\n",
       "      <td>No</td>\n",
       "      <td>Month-to-month</td>\n",
       "      <td>53.85</td>\n",
       "      <td>108.15</td>\n",
       "      <td>Yes</td>\n",
       "    </tr>\n",
       "    <tr>\n",
       "      <th>3</th>\n",
       "      <td>Male</td>\n",
       "      <td>0</td>\n",
       "      <td>No</td>\n",
       "      <td>No</td>\n",
       "      <td>45</td>\n",
       "      <td>No</td>\n",
       "      <td>Yes</td>\n",
       "      <td>No</td>\n",
       "      <td>Yes</td>\n",
       "      <td>Yes</td>\n",
       "      <td>No</td>\n",
       "      <td>No</td>\n",
       "      <td>One year</td>\n",
       "      <td>42.30</td>\n",
       "      <td>1840.75</td>\n",
       "      <td>No</td>\n",
       "    </tr>\n",
       "    <tr>\n",
       "      <th>4</th>\n",
       "      <td>Female</td>\n",
       "      <td>0</td>\n",
       "      <td>No</td>\n",
       "      <td>No</td>\n",
       "      <td>2</td>\n",
       "      <td>Yes</td>\n",
       "      <td>No</td>\n",
       "      <td>No</td>\n",
       "      <td>No</td>\n",
       "      <td>No</td>\n",
       "      <td>No</td>\n",
       "      <td>No</td>\n",
       "      <td>Month-to-month</td>\n",
       "      <td>70.70</td>\n",
       "      <td>151.65</td>\n",
       "      <td>Yes</td>\n",
       "    </tr>\n",
       "    <tr>\n",
       "      <th>...</th>\n",
       "      <td>...</td>\n",
       "      <td>...</td>\n",
       "      <td>...</td>\n",
       "      <td>...</td>\n",
       "      <td>...</td>\n",
       "      <td>...</td>\n",
       "      <td>...</td>\n",
       "      <td>...</td>\n",
       "      <td>...</td>\n",
       "      <td>...</td>\n",
       "      <td>...</td>\n",
       "      <td>...</td>\n",
       "      <td>...</td>\n",
       "      <td>...</td>\n",
       "      <td>...</td>\n",
       "      <td>...</td>\n",
       "    </tr>\n",
       "    <tr>\n",
       "      <th>7038</th>\n",
       "      <td>Male</td>\n",
       "      <td>0</td>\n",
       "      <td>Yes</td>\n",
       "      <td>Yes</td>\n",
       "      <td>24</td>\n",
       "      <td>Yes</td>\n",
       "      <td>Yes</td>\n",
       "      <td>No</td>\n",
       "      <td>Yes</td>\n",
       "      <td>Yes</td>\n",
       "      <td>Yes</td>\n",
       "      <td>Yes</td>\n",
       "      <td>One year</td>\n",
       "      <td>84.80</td>\n",
       "      <td>1990.5</td>\n",
       "      <td>No</td>\n",
       "    </tr>\n",
       "    <tr>\n",
       "      <th>7039</th>\n",
       "      <td>Female</td>\n",
       "      <td>0</td>\n",
       "      <td>Yes</td>\n",
       "      <td>Yes</td>\n",
       "      <td>72</td>\n",
       "      <td>Yes</td>\n",
       "      <td>No</td>\n",
       "      <td>Yes</td>\n",
       "      <td>Yes</td>\n",
       "      <td>No</td>\n",
       "      <td>Yes</td>\n",
       "      <td>Yes</td>\n",
       "      <td>One year</td>\n",
       "      <td>103.20</td>\n",
       "      <td>7362.9</td>\n",
       "      <td>No</td>\n",
       "    </tr>\n",
       "    <tr>\n",
       "      <th>7040</th>\n",
       "      <td>Female</td>\n",
       "      <td>0</td>\n",
       "      <td>Yes</td>\n",
       "      <td>Yes</td>\n",
       "      <td>11</td>\n",
       "      <td>No</td>\n",
       "      <td>Yes</td>\n",
       "      <td>No</td>\n",
       "      <td>No</td>\n",
       "      <td>No</td>\n",
       "      <td>No</td>\n",
       "      <td>No</td>\n",
       "      <td>Month-to-month</td>\n",
       "      <td>29.60</td>\n",
       "      <td>346.45</td>\n",
       "      <td>No</td>\n",
       "    </tr>\n",
       "    <tr>\n",
       "      <th>7041</th>\n",
       "      <td>Male</td>\n",
       "      <td>1</td>\n",
       "      <td>Yes</td>\n",
       "      <td>No</td>\n",
       "      <td>4</td>\n",
       "      <td>Yes</td>\n",
       "      <td>No</td>\n",
       "      <td>No</td>\n",
       "      <td>No</td>\n",
       "      <td>No</td>\n",
       "      <td>No</td>\n",
       "      <td>No</td>\n",
       "      <td>Month-to-month</td>\n",
       "      <td>74.40</td>\n",
       "      <td>306.6</td>\n",
       "      <td>Yes</td>\n",
       "    </tr>\n",
       "    <tr>\n",
       "      <th>7042</th>\n",
       "      <td>Male</td>\n",
       "      <td>0</td>\n",
       "      <td>No</td>\n",
       "      <td>No</td>\n",
       "      <td>66</td>\n",
       "      <td>Yes</td>\n",
       "      <td>Yes</td>\n",
       "      <td>No</td>\n",
       "      <td>Yes</td>\n",
       "      <td>Yes</td>\n",
       "      <td>Yes</td>\n",
       "      <td>Yes</td>\n",
       "      <td>Two year</td>\n",
       "      <td>105.65</td>\n",
       "      <td>6844.5</td>\n",
       "      <td>No</td>\n",
       "    </tr>\n",
       "  </tbody>\n",
       "</table>\n",
       "<p>7043 rows × 16 columns</p>\n",
       "</div>"
      ],
      "text/plain": [
       "      gender  SeniorCitizen Partner Dependents  tenure PhoneService  \\\n",
       "0     Female              0     Yes         No       1           No   \n",
       "1       Male              0      No         No      34          Yes   \n",
       "2       Male              0      No         No       2          Yes   \n",
       "3       Male              0      No         No      45           No   \n",
       "4     Female              0      No         No       2          Yes   \n",
       "...      ...            ...     ...        ...     ...          ...   \n",
       "7038    Male              0     Yes        Yes      24          Yes   \n",
       "7039  Female              0     Yes        Yes      72          Yes   \n",
       "7040  Female              0     Yes        Yes      11           No   \n",
       "7041    Male              1     Yes         No       4          Yes   \n",
       "7042    Male              0      No         No      66          Yes   \n",
       "\n",
       "     OnlineSecurity OnlineBackup DeviceProtection TechSupport StreamingTV  \\\n",
       "0                No          Yes               No          No          No   \n",
       "1               Yes           No              Yes          No          No   \n",
       "2               Yes          Yes               No          No          No   \n",
       "3               Yes           No              Yes         Yes          No   \n",
       "4                No           No               No          No          No   \n",
       "...             ...          ...              ...         ...         ...   \n",
       "7038            Yes           No              Yes         Yes         Yes   \n",
       "7039             No          Yes              Yes          No         Yes   \n",
       "7040            Yes           No               No          No          No   \n",
       "7041             No           No               No          No          No   \n",
       "7042            Yes           No              Yes         Yes         Yes   \n",
       "\n",
       "     StreamingMovies        Contract  MonthlyCharges TotalCharges Churn  \n",
       "0                 No  Month-to-month           29.85        29.85    No  \n",
       "1                 No        One year           56.95       1889.5    No  \n",
       "2                 No  Month-to-month           53.85       108.15   Yes  \n",
       "3                 No        One year           42.30      1840.75    No  \n",
       "4                 No  Month-to-month           70.70       151.65   Yes  \n",
       "...              ...             ...             ...          ...   ...  \n",
       "7038             Yes        One year           84.80       1990.5    No  \n",
       "7039             Yes        One year          103.20       7362.9    No  \n",
       "7040              No  Month-to-month           29.60       346.45    No  \n",
       "7041              No  Month-to-month           74.40        306.6   Yes  \n",
       "7042             Yes        Two year          105.65       6844.5    No  \n",
       "\n",
       "[7043 rows x 16 columns]"
      ]
     },
     "execution_count": 3,
     "metadata": {},
     "output_type": "execute_result"
    }
   ],
   "source": [
    "churnData"
   ]
  },
  {
   "cell_type": "markdown",
   "id": "311ee480",
   "metadata": {},
   "source": [
    "##### 3. Check the datatypes of all the columns in the data. You would see that the column TotalCharges is object type. Convert this column into numeric type using pd.to_numeric function."
   ]
  },
  {
   "cell_type": "code",
   "execution_count": 4,
   "id": "5f15744c",
   "metadata": {},
   "outputs": [
    {
     "name": "stdout",
     "output_type": "stream",
     "text": [
      "gender               object\n",
      "SeniorCitizen         int64\n",
      "Partner              object\n",
      "Dependents           object\n",
      "tenure                int64\n",
      "PhoneService         object\n",
      "OnlineSecurity       object\n",
      "OnlineBackup         object\n",
      "DeviceProtection     object\n",
      "TechSupport          object\n",
      "StreamingTV          object\n",
      "StreamingMovies      object\n",
      "Contract             object\n",
      "MonthlyCharges      float64\n",
      "TotalCharges         object\n",
      "Churn                object\n",
      "dtype: object\n"
     ]
    }
   ],
   "source": [
    "# Check the data types of all columns\n",
    "print(churnData.dtypes)"
   ]
  },
  {
   "cell_type": "code",
   "execution_count": 5,
   "id": "d1fafbb0",
   "metadata": {},
   "outputs": [
    {
     "name": "stdout",
     "output_type": "stream",
     "text": [
      "\n",
      "Dtypes after conversion:\n",
      "gender               object\n",
      "SeniorCitizen         int64\n",
      "Partner              object\n",
      "Dependents           object\n",
      "tenure                int64\n",
      "PhoneService         object\n",
      "OnlineSecurity       object\n",
      "OnlineBackup         object\n",
      "DeviceProtection     object\n",
      "TechSupport          object\n",
      "StreamingTV          object\n",
      "StreamingMovies      object\n",
      "Contract             object\n",
      "MonthlyCharges      float64\n",
      "TotalCharges        float64\n",
      "Churn                object\n",
      "dtype: object\n",
      "\n",
      "DataFrame after conversion:\n",
      "      gender  SeniorCitizen Partner Dependents  tenure PhoneService  \\\n",
      "0     Female              0     Yes         No       1           No   \n",
      "1       Male              0      No         No      34          Yes   \n",
      "2       Male              0      No         No       2          Yes   \n",
      "3       Male              0      No         No      45           No   \n",
      "4     Female              0      No         No       2          Yes   \n",
      "...      ...            ...     ...        ...     ...          ...   \n",
      "7038    Male              0     Yes        Yes      24          Yes   \n",
      "7039  Female              0     Yes        Yes      72          Yes   \n",
      "7040  Female              0     Yes        Yes      11           No   \n",
      "7041    Male              1     Yes         No       4          Yes   \n",
      "7042    Male              0      No         No      66          Yes   \n",
      "\n",
      "     OnlineSecurity OnlineBackup DeviceProtection TechSupport StreamingTV  \\\n",
      "0                No          Yes               No          No          No   \n",
      "1               Yes           No              Yes          No          No   \n",
      "2               Yes          Yes               No          No          No   \n",
      "3               Yes           No              Yes         Yes          No   \n",
      "4                No           No               No          No          No   \n",
      "...             ...          ...              ...         ...         ...   \n",
      "7038            Yes           No              Yes         Yes         Yes   \n",
      "7039             No          Yes              Yes          No         Yes   \n",
      "7040            Yes           No               No          No          No   \n",
      "7041             No           No               No          No          No   \n",
      "7042            Yes           No              Yes         Yes         Yes   \n",
      "\n",
      "     StreamingMovies        Contract  MonthlyCharges  TotalCharges Churn  \n",
      "0                 No  Month-to-month           29.85         29.85    No  \n",
      "1                 No        One year           56.95       1889.50    No  \n",
      "2                 No  Month-to-month           53.85        108.15   Yes  \n",
      "3                 No        One year           42.30       1840.75    No  \n",
      "4                 No  Month-to-month           70.70        151.65   Yes  \n",
      "...              ...             ...             ...           ...   ...  \n",
      "7038             Yes        One year           84.80       1990.50    No  \n",
      "7039             Yes        One year          103.20       7362.90    No  \n",
      "7040              No  Month-to-month           29.60        346.45    No  \n",
      "7041              No  Month-to-month           74.40        306.60   Yes  \n",
      "7042             Yes        Two year          105.65       6844.50    No  \n",
      "\n",
      "[7043 rows x 16 columns]\n"
     ]
    }
   ],
   "source": [
    "# Convert column 'TotalCharges' from object to numeric\n",
    "# 'coerce' will set 'not a number' to NaN (missing value)\n",
    "churnData['TotalCharges'] = pd.to_numeric(churnData['TotalCharges'], errors='coerce')\n",
    "\n",
    "# Display the dtypes after conversion\n",
    "print(\"\\nDtypes after conversion:\")\n",
    "print(churnData.dtypes)\n",
    "\n",
    "# Display the DataFrame after conversion\n",
    "print(\"\\nDataFrame after conversion:\")\n",
    "print(churnData)"
   ]
  },
  {
   "cell_type": "markdown",
   "id": "e89ffecb",
   "metadata": {},
   "source": [
    "##### 4. Check for null values in the dataframe. Replace the null values."
   ]
  },
  {
   "cell_type": "code",
   "execution_count": 6,
   "id": "d161f897",
   "metadata": {},
   "outputs": [
    {
     "name": "stdout",
     "output_type": "stream",
     "text": [
      "Number of null values in each column:\n",
      "gender               0\n",
      "SeniorCitizen        0\n",
      "Partner              0\n",
      "Dependents           0\n",
      "tenure               0\n",
      "PhoneService         0\n",
      "OnlineSecurity       0\n",
      "OnlineBackup         0\n",
      "DeviceProtection     0\n",
      "TechSupport          0\n",
      "StreamingTV          0\n",
      "StreamingMovies      0\n",
      "Contract             0\n",
      "MonthlyCharges       0\n",
      "TotalCharges        11\n",
      "Churn                0\n",
      "dtype: int64\n"
     ]
    }
   ],
   "source": [
    "# Count null values in each column\n",
    "null_counts = churnData.isnull().sum()\n",
    "print(\"Number of null values in each column:\")\n",
    "print(null_counts)"
   ]
  },
  {
   "cell_type": "code",
   "execution_count": 7,
   "id": "b8d78274",
   "metadata": {},
   "outputs": [],
   "source": [
    "# Replace null values in column 'A' with 0\n",
    "churnData['TotalCharges'] = churnData['TotalCharges'].fillna(0)"
   ]
  },
  {
   "cell_type": "code",
   "execution_count": 8,
   "id": "4bbe5e8d",
   "metadata": {},
   "outputs": [
    {
     "name": "stdout",
     "output_type": "stream",
     "text": [
      "Number of null values in each column:\n",
      "gender              0\n",
      "SeniorCitizen       0\n",
      "Partner             0\n",
      "Dependents          0\n",
      "tenure              0\n",
      "PhoneService        0\n",
      "OnlineSecurity      0\n",
      "OnlineBackup        0\n",
      "DeviceProtection    0\n",
      "TechSupport         0\n",
      "StreamingTV         0\n",
      "StreamingMovies     0\n",
      "Contract            0\n",
      "MonthlyCharges      0\n",
      "TotalCharges        0\n",
      "Churn               0\n",
      "dtype: int64\n"
     ]
    }
   ],
   "source": [
    "# Count null values in each column\n",
    "null_counts = churnData.isnull().sum()\n",
    "print(\"Number of null values in each column:\")\n",
    "print(null_counts)"
   ]
  },
  {
   "cell_type": "markdown",
   "id": "31efb319",
   "metadata": {},
   "source": [
    "##### 5. Use the following features: tenure, SeniorCitizen, MonthlyCharges and TotalCharges to:"
   ]
  },
  {
   "cell_type": "markdown",
   "id": "0fc18cb9",
   "metadata": {},
   "source": [
    "###### 5.1 Scale the features either by using normalizer or a standard scaler."
   ]
  },
  {
   "cell_type": "code",
   "execution_count": 9,
   "id": "92b81bcf",
   "metadata": {},
   "outputs": [
    {
     "name": "stdout",
     "output_type": "stream",
     "text": [
      "      gender  SeniorCitizen Partner Dependents    tenure PhoneService  \\\n",
      "0     Female      -0.439916     Yes         No -1.277445           No   \n",
      "1       Male      -0.439916      No         No  0.066327          Yes   \n",
      "2       Male      -0.439916      No         No -1.236724          Yes   \n",
      "3       Male      -0.439916      No         No  0.514251           No   \n",
      "4     Female      -0.439916      No         No -1.236724          Yes   \n",
      "...      ...            ...     ...        ...       ...          ...   \n",
      "7038    Male      -0.439916     Yes        Yes -0.340876          Yes   \n",
      "7039  Female      -0.439916     Yes        Yes  1.613701          Yes   \n",
      "7040  Female      -0.439916     Yes        Yes -0.870241           No   \n",
      "7041    Male       2.273159     Yes         No -1.155283          Yes   \n",
      "7042    Male      -0.439916      No         No  1.369379          Yes   \n",
      "\n",
      "     OnlineSecurity OnlineBackup DeviceProtection TechSupport StreamingTV  \\\n",
      "0                No          Yes               No          No          No   \n",
      "1               Yes           No              Yes          No          No   \n",
      "2               Yes          Yes               No          No          No   \n",
      "3               Yes           No              Yes         Yes          No   \n",
      "4                No           No               No          No          No   \n",
      "...             ...          ...              ...         ...         ...   \n",
      "7038            Yes           No              Yes         Yes         Yes   \n",
      "7039             No          Yes              Yes          No         Yes   \n",
      "7040            Yes           No               No          No          No   \n",
      "7041             No           No               No          No          No   \n",
      "7042            Yes           No              Yes         Yes         Yes   \n",
      "\n",
      "     StreamingMovies        Contract  MonthlyCharges  TotalCharges Churn  \n",
      "0                 No  Month-to-month       -1.160323     -0.992611    No  \n",
      "1                 No        One year       -0.259629     -0.172165    No  \n",
      "2                 No  Month-to-month       -0.362660     -0.958066   Yes  \n",
      "3                 No        One year       -0.746535     -0.193672    No  \n",
      "4                 No  Month-to-month        0.197365     -0.938874   Yes  \n",
      "...              ...             ...             ...           ...   ...  \n",
      "7038             Yes        One year        0.665992     -0.127605    No  \n",
      "7039             Yes        One year        1.277533      2.242606    No  \n",
      "7040              No  Month-to-month       -1.168632     -0.852932    No  \n",
      "7041              No  Month-to-month        0.320338     -0.870513   Yes  \n",
      "7042             Yes        Two year        1.358961      2.013897    No  \n",
      "\n",
      "[7043 rows x 16 columns]\n"
     ]
    }
   ],
   "source": [
    "# Scaling the following features: tenure, SeniorCitizen, MonthlyCharges and TotalCharges\n",
    "\n",
    "churnData_copy = churnData.copy()\n",
    "\n",
    "from sklearn.preprocessing import StandardScaler\n",
    "\n",
    "# Selecting columns to standardize\n",
    "columns_to_scale = ['tenure', 'SeniorCitizen', 'MonthlyCharges', 'TotalCharges']\n",
    "\n",
    "# Creating a scaler object\n",
    "scaler = StandardScaler()\n",
    "\n",
    "# Fitting the scaler to the data and transforming it\n",
    "churnData_copy[columns_to_scale] = scaler.fit_transform(churnData_copy[columns_to_scale])\n",
    "\n",
    "print(churnData_copy)"
   ]
  },
  {
   "cell_type": "markdown",
   "id": "0c006277",
   "metadata": {},
   "source": [
    "###### 5.2 Split the data into a training set and a test set."
   ]
  },
  {
   "cell_type": "code",
   "execution_count": 10,
   "id": "41be2cdb",
   "metadata": {},
   "outputs": [],
   "source": [
    "# Label encoding the gender column\n",
    "# Use pd.get_dummies() to convert all categorical columns to dummy variables\n",
    "#churnData_copy_encoded = pd.get_dummies(churnData_copy, drop_first=True)\n",
    "\n",
    "# Display the resulting DataFrame with encoded categorical columns\n",
    "#print(\"\\nDataFrame after encoding:\")\n",
    "#print(churnData_copy_encoded)"
   ]
  },
  {
   "cell_type": "code",
   "execution_count": 11,
   "id": "ffef4925",
   "metadata": {},
   "outputs": [
    {
     "name": "stdout",
     "output_type": "stream",
     "text": [
      "Requirement already satisfied: scikit-learn in c:\\users\\mafal\\anaconda3\\lib\\site-packages (1.3.0)\n",
      "Requirement already satisfied: numpy>=1.17.3 in c:\\users\\mafal\\anaconda3\\lib\\site-packages (from scikit-learn) (1.24.3)\n",
      "Requirement already satisfied: scipy>=1.5.0 in c:\\users\\mafal\\anaconda3\\lib\\site-packages (from scikit-learn) (1.11.1)\n",
      "Requirement already satisfied: joblib>=1.1.1 in c:\\users\\mafal\\anaconda3\\lib\\site-packages (from scikit-learn) (1.2.0)\n",
      "Requirement already satisfied: threadpoolctl>=2.0.0 in c:\\users\\mafal\\anaconda3\\lib\\site-packages (from scikit-learn) (2.2.0)\n",
      "Note: you may need to restart the kernel to use updated packages.\n"
     ]
    }
   ],
   "source": [
    "pip install scikit-learn"
   ]
  },
  {
   "cell_type": "code",
   "execution_count": 12,
   "id": "0fdeaf08",
   "metadata": {},
   "outputs": [],
   "source": [
    "from sklearn.model_selection import train_test_split"
   ]
  },
  {
   "cell_type": "code",
   "execution_count": 17,
   "id": "97540d58",
   "metadata": {},
   "outputs": [],
   "source": [
    "X = churnData_copy[columns_to_scale]  # Features\n",
    "y = churnData_copy['Churn']  # Target variable"
   ]
  },
  {
   "cell_type": "code",
   "execution_count": 18,
   "id": "d0e56543",
   "metadata": {},
   "outputs": [],
   "source": [
    "X_train, X_test, y_train, y_test = train_test_split(X, y, test_size=0.2, random_state=42)"
   ]
  },
  {
   "cell_type": "code",
   "execution_count": 19,
   "id": "00272cc6",
   "metadata": {},
   "outputs": [
    {
     "name": "stdout",
     "output_type": "stream",
     "text": [
      "Training set:\n",
      "        tenure  SeniorCitizen  MonthlyCharges  TotalCharges\n",
      "2142 -0.463037      -0.439916        0.002935     -0.416007\n",
      "1623  0.880735      -0.439916        1.078118      1.257246\n",
      "6074 -1.277445      -0.439916       -1.373033     -0.995434\n",
      "1362 -1.155283      -0.439916        0.180747     -0.900800\n",
      "6754 -1.318165      -0.439916       -0.095111     -1.005780\n",
      "...        ...            ...             ...           ...\n",
      "3772 -1.277445      -0.439916        1.004999     -0.963867\n",
      "5191 -0.381597      -0.439916        0.875378     -0.035927\n",
      "5226 -0.829521      -0.439916       -1.449476     -0.870756\n",
      "5390 -0.829521       2.273159        1.152899     -0.476294\n",
      "860  -0.259435      -0.439916       -1.494344     -0.804027\n",
      "\n",
      "[5634 rows x 4 columns]\n",
      "2142     No\n",
      "1623     No\n",
      "6074    Yes\n",
      "1362    Yes\n",
      "6754     No\n",
      "       ... \n",
      "3772    Yes\n",
      "5191     No\n",
      "5226     No\n",
      "5390    Yes\n",
      "860      No\n",
      "Name: Churn, Length: 5634, dtype: object\n",
      "\n",
      "Test set:\n",
      "        tenure  SeniorCitizen  MonthlyCharges  TotalCharges\n",
      "185  -1.277445      -0.439916       -1.328164     -0.994838\n",
      "2715  0.351370      -0.439916       -1.313208     -0.566163\n",
      "3825  0.799294      -0.439916       -1.509300     -0.550611\n",
      "1807 -1.277445      -0.439916        0.385148     -0.972096\n",
      "132   1.410099      -0.439916       -0.472339      0.432521\n",
      "...        ...            ...             ...           ...\n",
      "6366  1.287938      -0.439916        0.117599      0.926072\n",
      "315   0.758574      -0.439916        1.505199      1.502963\n",
      "2439 -0.625919      -0.439916       -1.491021     -0.860300\n",
      "5002  1.491540      -0.439916       -0.691696      0.300166\n",
      "1161 -1.277445      -0.439916       -1.110469     -0.991949\n",
      "\n",
      "[1409 rows x 4 columns]\n",
      "185     Yes\n",
      "2715     No\n",
      "3825     No\n",
      "1807    Yes\n",
      "132      No\n",
      "       ... \n",
      "6366     No\n",
      "315      No\n",
      "2439     No\n",
      "5002     No\n",
      "1161    Yes\n",
      "Name: Churn, Length: 1409, dtype: object\n"
     ]
    }
   ],
   "source": [
    "# Displaying the result\n",
    "print(\"Training set:\")\n",
    "print(X_train)\n",
    "print(y_train)\n",
    "print(\"\\nTest set:\")\n",
    "print(X_test)\n",
    "print(y_test)"
   ]
  },
  {
   "cell_type": "markdown",
   "id": "26c578d2",
   "metadata": {},
   "source": [
    "###### 5.3 Fit a logistic regression model on the training data."
   ]
  },
  {
   "cell_type": "code",
   "execution_count": 21,
   "id": "8f5d918f",
   "metadata": {},
   "outputs": [],
   "source": [
    "from sklearn.linear_model import LogisticRegression\n",
    "from sklearn.metrics import accuracy_score\n",
    "\n",
    "# Initialize the model\n",
    "model = LogisticRegression()\n",
    "\n",
    "# Fit the model\n",
    "model.fit(X_train, y_train)\n",
    "\n",
    "# Predict on the test set\n",
    "y_pred = model.predict(X_test)"
   ]
  },
  {
   "cell_type": "markdown",
   "id": "66fc5afa",
   "metadata": {},
   "source": [
    "###### 5.4 Check the accuracy on the test data."
   ]
  },
  {
   "cell_type": "code",
   "execution_count": 22,
   "id": "9250e0fc",
   "metadata": {},
   "outputs": [
    {
     "name": "stdout",
     "output_type": "stream",
     "text": [
      "Model Accuracy: 0.8062455642299503\n"
     ]
    }
   ],
   "source": [
    "# Evaluate the model\n",
    "accuracy = accuracy_score(y_test, y_pred)\n",
    "print(f\"Model Accuracy: {accuracy}\")"
   ]
  },
  {
   "cell_type": "markdown",
   "id": "a11a60b5",
   "metadata": {},
   "source": [
    "# Lab | Cross Validation"
   ]
  },
  {
   "cell_type": "markdown",
   "id": "50872185",
   "metadata": {},
   "source": [
    "### Instructions"
   ]
  },
  {
   "cell_type": "markdown",
   "id": "382206db",
   "metadata": {},
   "source": [
    "##### 1. Apply SMOTE for upsampling the data"
   ]
  },
  {
   "cell_type": "markdown",
   "id": "7eca8828",
   "metadata": {},
   "source": [
    "---------------------------------------------------------------------------------------------------------\n",
    "\n",
    "- Use logistic regression to fit the model and compute the accuracy of the model.\n",
    "- Use decision tree classifier to fit the model and compute the accuracy of the model.\n",
    "- Compare the accuracies of the two models.\n",
    "\n",
    "----------------------------------------------------------------------------------------------------"
   ]
  },
  {
   "cell_type": "code",
   "execution_count": 23,
   "id": "1fce7f9b",
   "metadata": {},
   "outputs": [],
   "source": [
    "from sklearn.tree import DecisionTreeRegressor\n",
    "from sklearn.ensemble import RandomForestRegressor\n",
    "from sklearn.model_selection import train_test_split\n",
    "from sklearn.metrics import mean_squared_error"
   ]
  },
  {
   "cell_type": "code",
   "execution_count": 24,
   "id": "21e23c04",
   "metadata": {},
   "outputs": [
    {
     "ename": "ValueError",
     "evalue": "could not convert string to float: 'No'",
     "output_type": "error",
     "traceback": [
      "\u001b[1;31m---------------------------------------------------------------------------\u001b[0m",
      "\u001b[1;31mValueError\u001b[0m                                Traceback (most recent call last)",
      "Cell \u001b[1;32mIn[24], line 4\u001b[0m\n\u001b[0;32m      1\u001b[0m X_train, X_test, y_train, y_test \u001b[38;5;241m=\u001b[39m train_test_split(X, y, test_size\u001b[38;5;241m=\u001b[39m\u001b[38;5;241m0.33\u001b[39m, random_state\u001b[38;5;241m=\u001b[39m\u001b[38;5;241m42\u001b[39m)\n\u001b[0;32m      3\u001b[0m model \u001b[38;5;241m=\u001b[39m DecisionTreeRegressor()\n\u001b[1;32m----> 4\u001b[0m model\u001b[38;5;241m.\u001b[39mfit(X_train, y_train)\n\u001b[0;32m      5\u001b[0m model\u001b[38;5;241m.\u001b[39mscore(X_test, y_test)\n",
      "File \u001b[1;32m~\\anaconda3\\Lib\\site-packages\\sklearn\\base.py:1151\u001b[0m, in \u001b[0;36m_fit_context.<locals>.decorator.<locals>.wrapper\u001b[1;34m(estimator, *args, **kwargs)\u001b[0m\n\u001b[0;32m   1144\u001b[0m     estimator\u001b[38;5;241m.\u001b[39m_validate_params()\n\u001b[0;32m   1146\u001b[0m \u001b[38;5;28;01mwith\u001b[39;00m config_context(\n\u001b[0;32m   1147\u001b[0m     skip_parameter_validation\u001b[38;5;241m=\u001b[39m(\n\u001b[0;32m   1148\u001b[0m         prefer_skip_nested_validation \u001b[38;5;129;01mor\u001b[39;00m global_skip_validation\n\u001b[0;32m   1149\u001b[0m     )\n\u001b[0;32m   1150\u001b[0m ):\n\u001b[1;32m-> 1151\u001b[0m     \u001b[38;5;28;01mreturn\u001b[39;00m fit_method(estimator, \u001b[38;5;241m*\u001b[39margs, \u001b[38;5;241m*\u001b[39m\u001b[38;5;241m*\u001b[39mkwargs)\n",
      "File \u001b[1;32m~\\anaconda3\\Lib\\site-packages\\sklearn\\tree\\_classes.py:1320\u001b[0m, in \u001b[0;36mDecisionTreeRegressor.fit\u001b[1;34m(self, X, y, sample_weight, check_input)\u001b[0m\n\u001b[0;32m   1290\u001b[0m \u001b[38;5;129m@_fit_context\u001b[39m(prefer_skip_nested_validation\u001b[38;5;241m=\u001b[39m\u001b[38;5;28;01mTrue\u001b[39;00m)\n\u001b[0;32m   1291\u001b[0m \u001b[38;5;28;01mdef\u001b[39;00m \u001b[38;5;21mfit\u001b[39m(\u001b[38;5;28mself\u001b[39m, X, y, sample_weight\u001b[38;5;241m=\u001b[39m\u001b[38;5;28;01mNone\u001b[39;00m, check_input\u001b[38;5;241m=\u001b[39m\u001b[38;5;28;01mTrue\u001b[39;00m):\n\u001b[0;32m   1292\u001b[0m \u001b[38;5;250m    \u001b[39m\u001b[38;5;124;03m\"\"\"Build a decision tree regressor from the training set (X, y).\u001b[39;00m\n\u001b[0;32m   1293\u001b[0m \n\u001b[0;32m   1294\u001b[0m \u001b[38;5;124;03m    Parameters\u001b[39;00m\n\u001b[1;32m   (...)\u001b[0m\n\u001b[0;32m   1317\u001b[0m \u001b[38;5;124;03m        Fitted estimator.\u001b[39;00m\n\u001b[0;32m   1318\u001b[0m \u001b[38;5;124;03m    \"\"\"\u001b[39;00m\n\u001b[1;32m-> 1320\u001b[0m     \u001b[38;5;28msuper\u001b[39m()\u001b[38;5;241m.\u001b[39m_fit(\n\u001b[0;32m   1321\u001b[0m         X,\n\u001b[0;32m   1322\u001b[0m         y,\n\u001b[0;32m   1323\u001b[0m         sample_weight\u001b[38;5;241m=\u001b[39msample_weight,\n\u001b[0;32m   1324\u001b[0m         check_input\u001b[38;5;241m=\u001b[39mcheck_input,\n\u001b[0;32m   1325\u001b[0m     )\n\u001b[0;32m   1326\u001b[0m     \u001b[38;5;28;01mreturn\u001b[39;00m \u001b[38;5;28mself\u001b[39m\n",
      "File \u001b[1;32m~\\anaconda3\\Lib\\site-packages\\sklearn\\tree\\_classes.py:308\u001b[0m, in \u001b[0;36mBaseDecisionTree._fit\u001b[1;34m(self, X, y, sample_weight, check_input, missing_values_in_feature_mask)\u001b[0m\n\u001b[0;32m    305\u001b[0m     \u001b[38;5;28mself\u001b[39m\u001b[38;5;241m.\u001b[39mn_classes_ \u001b[38;5;241m=\u001b[39m np\u001b[38;5;241m.\u001b[39marray(\u001b[38;5;28mself\u001b[39m\u001b[38;5;241m.\u001b[39mn_classes_, dtype\u001b[38;5;241m=\u001b[39mnp\u001b[38;5;241m.\u001b[39mintp)\n\u001b[0;32m    307\u001b[0m \u001b[38;5;28;01mif\u001b[39;00m \u001b[38;5;28mgetattr\u001b[39m(y, \u001b[38;5;124m\"\u001b[39m\u001b[38;5;124mdtype\u001b[39m\u001b[38;5;124m\"\u001b[39m, \u001b[38;5;28;01mNone\u001b[39;00m) \u001b[38;5;241m!=\u001b[39m DOUBLE \u001b[38;5;129;01mor\u001b[39;00m \u001b[38;5;129;01mnot\u001b[39;00m y\u001b[38;5;241m.\u001b[39mflags\u001b[38;5;241m.\u001b[39mcontiguous:\n\u001b[1;32m--> 308\u001b[0m     y \u001b[38;5;241m=\u001b[39m np\u001b[38;5;241m.\u001b[39mascontiguousarray(y, dtype\u001b[38;5;241m=\u001b[39mDOUBLE)\n\u001b[0;32m    310\u001b[0m max_depth \u001b[38;5;241m=\u001b[39m np\u001b[38;5;241m.\u001b[39miinfo(np\u001b[38;5;241m.\u001b[39mint32)\u001b[38;5;241m.\u001b[39mmax \u001b[38;5;28;01mif\u001b[39;00m \u001b[38;5;28mself\u001b[39m\u001b[38;5;241m.\u001b[39mmax_depth \u001b[38;5;129;01mis\u001b[39;00m \u001b[38;5;28;01mNone\u001b[39;00m \u001b[38;5;28;01melse\u001b[39;00m \u001b[38;5;28mself\u001b[39m\u001b[38;5;241m.\u001b[39mmax_depth\n\u001b[0;32m    312\u001b[0m \u001b[38;5;28;01mif\u001b[39;00m \u001b[38;5;28misinstance\u001b[39m(\u001b[38;5;28mself\u001b[39m\u001b[38;5;241m.\u001b[39mmin_samples_leaf, numbers\u001b[38;5;241m.\u001b[39mIntegral):\n",
      "\u001b[1;31mValueError\u001b[0m: could not convert string to float: 'No'"
     ]
    }
   ],
   "source": [
    "X_train, X_test, y_train, y_test = train_test_split(X, y, test_size=0.33, random_state=42)\n",
    "\n",
    "model = DecisionTreeRegressor()\n",
    "model.fit(X_train, y_train)\n",
    "model.score(X_test, y_test)"
   ]
  },
  {
   "cell_type": "markdown",
   "id": "7456a227",
   "metadata": {},
   "source": [
    "##### 2. Apply TomekLinks for downsampling"
   ]
  },
  {
   "cell_type": "markdown",
   "id": "05a3d4d2",
   "metadata": {},
   "source": [
    "--------------------------------------------------------------------------------------------------\n",
    "- It is important to remember that it does not make the two classes equal but only removes the points from the majority class that are close to other points in minority class.\n",
    "- Use logistic regression to fit the model and compute the accuracy of the model.\n",
    "- Use decision tree classifier to fit the model and compute the accuracy of the model.\n",
    "- Compare the accuracies of the two models.\n",
    "- You can also apply this algorithm one more time and check the how the imbalance in the two classes changed from the last time.\n",
    "\n",
    "----------------------------------------------------------------------------------------------------------------"
   ]
  },
  {
   "cell_type": "code",
   "execution_count": 32,
   "id": "8685b9a1",
   "metadata": {},
   "outputs": [
    {
     "name": "stdout",
     "output_type": "stream",
     "text": [
      "Churn\n",
      "No     5174\n",
      "Yes    5174\n",
      "Name: count, dtype: int64\n"
     ]
    }
   ],
   "source": [
    "from sklearn.utils import resample\n",
    "\n",
    "# Upsampling\n",
    "churn_majority = churnData[churnData['Churn'] == 'No']\n",
    "churn_minority = churnData[churnData['Churn'] == 'Yes']\n",
    "\n",
    "churn_minority_upsampled = resample(df_minority, replace=True, n_samples=len(df_majority), random_state=42)\n",
    "\n",
    "churn_upsampled = pd.concat([churn_majority, churn_minority_upsampled])\n",
    "\n",
    "print(churn_upsampled['Churn'].value_counts())"
   ]
  },
  {
   "cell_type": "code",
   "execution_count": 33,
   "id": "ee2a989b",
   "metadata": {},
   "outputs": [
    {
     "name": "stdout",
     "output_type": "stream",
     "text": [
      "0.7323671497584541\n"
     ]
    }
   ],
   "source": [
    "X_upsampled = churn_upsampled[columns_to_scale]\n",
    "y_upsampled = churn_upsampled['Churn']\n",
    "\n",
    "X_upsampled = scaler.fit_transform(X_upsampled)\n",
    "\n",
    "X_train_up, X_test_up, y_train_up, y_test_up = train_test_split(X_upsampled, y_upsampled, test_size=0.2, random_state=42)\n",
    "\n",
    "model_up = LogisticRegression()\n",
    "model_up.fit(X_train_up, y_train_up)\n",
    "\n",
    "y_pred_up = model_up.predict(X_test_up)\n",
    "\n",
    "accuracy_up = accuracy_score(y_test_up, y_pred_up)\n",
    "print(accuracy_up)"
   ]
  },
  {
   "cell_type": "code",
   "execution_count": 29,
   "id": "8df57aae",
   "metadata": {},
   "outputs": [
    {
     "name": "stdout",
     "output_type": "stream",
     "text": [
      "Churn\n",
      "No     1869\n",
      "Yes    1869\n",
      "Name: count, dtype: int64\n"
     ]
    }
   ],
   "source": [
    "#Downsampling\n",
    "\n",
    "churn_majority = churnData[churnData['Churn'] == 'No']\n",
    "churn_minority = churnData[churnData['Churn'] == 'Yes']\n",
    "\n",
    "churn_majority_downsampled = resample(df1_majority, replace=False, n_samples=len(df1_minority), random_state=42)\n",
    "\n",
    "churn_downsampled = pd.concat([df1_majority_downsampled, df1_minority])\n",
    "\n",
    "print(churn_downsampled['Churn'].value_counts())"
   ]
  },
  {
   "cell_type": "code",
   "execution_count": 31,
   "id": "5c82eda8",
   "metadata": {},
   "outputs": [
    {
     "name": "stdout",
     "output_type": "stream",
     "text": [
      "0.7553475935828877\n"
     ]
    }
   ],
   "source": [
    "X_downsampled = df1_downsampled[columns_to_scale]\n",
    "y_downsampled = df1_downsampled['Churn']\n",
    "\n",
    "X_downsampled = scaler.fit_transform(X_downsampled)\n",
    "\n",
    "X_train_down, X_test_down, y_train_down, y_test_down = train_test_split(X_downsampled, y_downsampled, test_size=0.2, random_state=42)\n",
    "\n",
    "model_down = LogisticRegression()\n",
    "model_down.fit(X_train_down, y_train_down)\n",
    "\n",
    "y_pred_down = model_down.predict(X_test_down)\n",
    "\n",
    "accuracy_down = accuracy_score(y_test_down, y_pred_down)\n",
    "print(accuracy_down)"
   ]
  }
 ],
 "metadata": {
  "kernelspec": {
   "display_name": "Python 3 (ipykernel)",
   "language": "python",
   "name": "python3"
  },
  "language_info": {
   "codemirror_mode": {
    "name": "ipython",
    "version": 3
   },
   "file_extension": ".py",
   "mimetype": "text/x-python",
   "name": "python",
   "nbconvert_exporter": "python",
   "pygments_lexer": "ipython3",
   "version": "3.11.5"
  }
 },
 "nbformat": 4,
 "nbformat_minor": 5
}
